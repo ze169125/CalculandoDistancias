{
 "cells": [
  {
   "cell_type": "markdown",
   "id": "7f0a7e02-b588-4b96-b063-e1ad648a6201",
   "metadata": {},
   "source": [
    "Para instalar bibliotecas necessárias, use: \n",
    "pip install -r requirements.txt"
   ]
  },
  {
   "cell_type": "code",
   "execution_count": 1,
   "id": "9baa2b67-f0ab-4322-beb6-7531e57e6216",
   "metadata": {},
   "outputs": [],
   "source": [
    "#Importo bibliotecas que serão usadas\n",
    "import osmnx as ox\n",
    "import networkx as nx\n",
    "import matplotlib.pyplot as plt\n",
    "import pandas as pd\n",
    "from pyproj import Transformer, Proj\n",
    "from geopy.distance import geodesic\n",
    "import itertools"
   ]
  },
  {
   "cell_type": "code",
   "execution_count": 2,
   "id": "ca309311-2ca5-46ee-b342-24a9fe1a0c39",
   "metadata": {},
   "outputs": [
    {
     "name": "stdout",
     "output_type": "stream",
     "text": [
      "       LATITUDE*      LONGITUDE*\n",
      "0  -2,8933300000  -41,2584000000\n",
      "1  -3,0177000000  -41,1415000000\n",
      "2  -3,5722800000  -41,0905600000\n",
      "3  -3,5722000000  -41,0903000000\n",
      "4  -3,7341000000  -41,0126000000\n",
      "   Longitute  Latitude\n",
      "0     451613   9322170\n",
      "1     365028   9267780\n",
      "2     332222   9262895\n",
      "3     327184   9267342\n",
      "4     352192   9264253\n"
     ]
    }
   ],
   "source": [
    "#leio arquivos e pego somente colunas uteis!\n",
    "arqCsv = pd.read_csv(\"Levantamento ETE_CAGECE - zÉ.csv\",usecols=[\"LATITUDE*\",\"LONGITUDE*\"])\n",
    "arqExcel = pd.read_excel(\"COMUNIDADES BENEFICIADAS(2).xlsx\",usecols=[\"Latitude\",\"Longitute\"])"
   ]
  },
  {
   "cell_type": "markdown",
   "id": "6b1e7edc-c04c-453d-af43-7baa9b47dff2",
   "metadata": {},
   "source": [
    "Transformo o arquivo Excel em uma série de linhas, onde cada linha é uma localização (lat,long)"
   ]
  },
  {
   "cell_type": "code",
   "execution_count": 3,
   "id": "301cbc0a-6d80-484d-b552-d23edde31a96",
   "metadata": {},
   "outputs": [
    {
     "name": "stdout",
     "output_type": "stream",
     "text": [
      "0    (-6.13213, -39.43732)\n",
      "1    (-6.62283, -40.22096)\n",
      "2     (-6.66618, -40.5178)\n",
      "3    (-6.62583, -40.56324)\n",
      "4    (-6.65443, -40.33714)\n",
      "dtype: object\n"
     ]
    }
   ],
   "source": [
    "#crio função que faz a conversão dos dados do Excel, que estão em UTM para (lat,long)\n",
    "def TransformaColunasExcel(linha):\n",
    "    utm_proj =Proj(proj='utm', zone=24, south=True)\n",
    "    lon, lat =utm_proj(linha.Longitute, linha.Latitude,inverse=True)\n",
    "    linha.NovaCoord = (round(lat,5),round(lon,5))\n",
    "    return linha.NovaCoord\n",
    "\n",
    "#executo função\n",
    "arqExcel=arqExcel.apply(TransformaColunasExcel ,axis='columns')"
   ]
  },
  {
   "cell_type": "markdown",
   "id": "212cdea6-626c-4ac2-bc10-e67472cde34c",
   "metadata": {},
   "source": [
    "Transformo o arquivo CSV em uma série de linhas, onde cada linha é uma localização (lat,long)"
   ]
  },
  {
   "cell_type": "code",
   "execution_count": 4,
   "id": "74bda0b6-4c71-4cca-9bb7-f3594375d25b",
   "metadata": {},
   "outputs": [
    {
     "name": "stdout",
     "output_type": "stream",
     "text": [
      "0     (-2.89333, -41.2584)\n",
      "1      (-3.0177, -41.1415)\n",
      "2    (-3.57228, -41.09056)\n",
      "3      (-3.5722, -41.0903)\n",
      "4      (-3.7341, -41.0126)\n",
      "dtype: object\n"
     ]
    }
   ],
   "source": [
    "def JuntoColunas(linha):\n",
    "    return (float(linha[\"LATITUDE*\"].replace(\",\",\".\")) ,float(linha[\"LONGITUDE*\"].replace(\",\",\".\")))\n",
    "arqCsv= arqCsv.apply(JuntoColunas ,axis='columns')"
   ]
  },
  {
   "cell_type": "markdown",
   "id": "694bfd60-8aa8-4a3f-8262-114a1d2b9c50",
   "metadata": {},
   "source": [
    "Crio tabela com colunas: PontoCsv, PontoExcel para todas as combinações desses valores!"
   ]
  },
  {
   "cell_type": "code",
   "execution_count": 5,
   "id": "3c0c6866-7a11-400b-96f5-bc0f4453a4eb",
   "metadata": {},
   "outputs": [
    {
     "data": {
      "text/html": [
       "<div>\n",
       "<style scoped>\n",
       "    .dataframe tbody tr th:only-of-type {\n",
       "        vertical-align: middle;\n",
       "    }\n",
       "\n",
       "    .dataframe tbody tr th {\n",
       "        vertical-align: top;\n",
       "    }\n",
       "\n",
       "    .dataframe thead th {\n",
       "        text-align: right;\n",
       "    }\n",
       "</style>\n",
       "<table border=\"1\" class=\"dataframe\">\n",
       "  <thead>\n",
       "    <tr style=\"text-align: right;\">\n",
       "      <th></th>\n",
       "      <th>PontoCsv</th>\n",
       "      <th>PontoExcel</th>\n",
       "    </tr>\n",
       "  </thead>\n",
       "  <tbody>\n",
       "    <tr>\n",
       "      <th>0</th>\n",
       "      <td>(-2.89333, -41.2584)</td>\n",
       "      <td>(-6.13213, -39.43732)</td>\n",
       "    </tr>\n",
       "    <tr>\n",
       "      <th>1</th>\n",
       "      <td>(-2.89333, -41.2584)</td>\n",
       "      <td>(-6.62283, -40.22096)</td>\n",
       "    </tr>\n",
       "    <tr>\n",
       "      <th>2</th>\n",
       "      <td>(-2.89333, -41.2584)</td>\n",
       "      <td>(-6.66618, -40.5178)</td>\n",
       "    </tr>\n",
       "    <tr>\n",
       "      <th>3</th>\n",
       "      <td>(-2.89333, -41.2584)</td>\n",
       "      <td>(-6.62583, -40.56324)</td>\n",
       "    </tr>\n",
       "    <tr>\n",
       "      <th>4</th>\n",
       "      <td>(-2.89333, -41.2584)</td>\n",
       "      <td>(-6.65443, -40.33714)</td>\n",
       "    </tr>\n",
       "    <tr>\n",
       "      <th>...</th>\n",
       "      <td>...</td>\n",
       "      <td>...</td>\n",
       "    </tr>\n",
       "    <tr>\n",
       "      <th>37417</th>\n",
       "      <td>(-4.57053, -37.7553)</td>\n",
       "      <td>(-3.64739, -39.45547)</td>\n",
       "    </tr>\n",
       "    <tr>\n",
       "      <th>37418</th>\n",
       "      <td>(-4.57053, -37.7553)</td>\n",
       "      <td>(-6.71576, -39.16157)</td>\n",
       "    </tr>\n",
       "    <tr>\n",
       "      <th>37419</th>\n",
       "      <td>(-4.57053, -37.7553)</td>\n",
       "      <td>(-6.84393, -39.19221)</td>\n",
       "    </tr>\n",
       "    <tr>\n",
       "      <th>37420</th>\n",
       "      <td>(-4.57053, -37.7553)</td>\n",
       "      <td>(-3.58339, -41.12389)</td>\n",
       "    </tr>\n",
       "    <tr>\n",
       "      <th>37421</th>\n",
       "      <td>(-4.57053, -37.7553)</td>\n",
       "      <td>(-3.51819, -41.18503)</td>\n",
       "    </tr>\n",
       "  </tbody>\n",
       "</table>\n",
       "<p>37422 rows × 2 columns</p>\n",
       "</div>"
      ],
      "text/plain": [
       "                   PontoCsv             PontoExcel\n",
       "0      (-2.89333, -41.2584)  (-6.13213, -39.43732)\n",
       "1      (-2.89333, -41.2584)  (-6.62283, -40.22096)\n",
       "2      (-2.89333, -41.2584)   (-6.66618, -40.5178)\n",
       "3      (-2.89333, -41.2584)  (-6.62583, -40.56324)\n",
       "4      (-2.89333, -41.2584)  (-6.65443, -40.33714)\n",
       "...                     ...                    ...\n",
       "37417  (-4.57053, -37.7553)  (-3.64739, -39.45547)\n",
       "37418  (-4.57053, -37.7553)  (-6.71576, -39.16157)\n",
       "37419  (-4.57053, -37.7553)  (-6.84393, -39.19221)\n",
       "37420  (-4.57053, -37.7553)  (-3.58339, -41.12389)\n",
       "37421  (-4.57053, -37.7553)  (-3.51819, -41.18503)\n",
       "\n",
       "[37422 rows x 2 columns]"
      ]
     },
     "execution_count": 5,
     "metadata": {},
     "output_type": "execute_result"
    }
   ],
   "source": [
    "product = list(itertools.product(arqCsv, arqExcel))\n",
    "dados = pd.DataFrame(product, columns=['PontoCsv', 'PontoExcel'])"
   ]
  },
  {
   "cell_type": "markdown",
   "id": "1dd74ee0-fddb-49f9-a263-772a788fb261",
   "metadata": {},
   "source": [
    "Crio Coluna que contêm a distância geodésica entre os pontos!"
   ]
  },
  {
   "cell_type": "code",
   "execution_count": 6,
   "id": "59c9a880-8947-4d71-ba77-ae8c03ca7f8d",
   "metadata": {},
   "outputs": [],
   "source": [
    "#Vejo se a distância entre os pontos em linha reta é menor do que 50 km\n",
    "def CalculoGeodesica(linha):\n",
    "    return geodesic(linha.PontoCsv, linha.PontoExcel).kilometers\n",
    "dados[\"DistanciaGeodesica\"]= dados.apply(CalculoGeodesica ,axis='columns')"
   ]
  },
  {
   "cell_type": "markdown",
   "id": "745a3e25-cb67-42ca-bfd7-1ea909aa3f5b",
   "metadata": {},
   "source": [
    "Vamos pegar somente linhas onde a distância geodésica for menor que 50 km"
   ]
  },
  {
   "cell_type": "code",
   "execution_count": 8,
   "id": "821908f6-052c-436d-a973-7f91999bcdd2",
   "metadata": {},
   "outputs": [
    {
     "name": "stdout",
     "output_type": "stream",
     "text": [
      "Temos: 1474 candidatos\n",
      "                    PontoCsv             PontoExcel  DistanciaGeodesica\n",
      "7258     (-5.3808, -40.3377)  (-5.36707, -40.33233)            1.630805\n",
      "11151    (-6.1115, -39.4562)  (-6.13213, -39.43732)            3.093883\n",
      "565    (-3.57228, -41.09056)  (-3.58339, -41.12389)            3.901563\n",
      "754      (-3.5722, -41.0903)  (-3.58339, -41.12389)            3.931767\n",
      "6219     (-3.7695, -40.4909)   (-3.73216, -40.4981)            4.205768\n"
     ]
    }
   ],
   "source": [
    "dadosPequenos = dados[dados[\"DistanciaGeodesica\"]<=50]\n",
    "print(f\"Temos: {dadosPequenos.shape[0]} candidatos\")\n",
    "#alinho dados por distância\n",
    "dadosPequenos=dadosPequenos.sort_values(by=['DistanciaGeodesica'], ascending=[True])\n",
    "print(dadosPequenos.head())"
   ]
  },
  {
   "cell_type": "markdown",
   "id": "1c2e0edf-cfa1-42c8-8e55-87f0674afd4b",
   "metadata": {},
   "source": [
    "Agora vamos calcular a distância de carro! Para cada um, pegaremos um mapa e veremos a distância de carro."
   ]
  },
  {
   "cell_type": "code",
   "execution_count": 13,
   "id": "16c6eee0-1d10-40da-a1f6-d9c3d0cc7ec5",
   "metadata": {},
   "outputs": [
    {
     "name": "stdout",
     "output_type": "stream",
     "text": [
      "1 / 1474\n",
      "2 / 1474\n",
      "3 / 1474\n",
      "4 / 1474\n",
      "5 / 1474\n",
      "6 / 1474\n",
      "7 / 1474\n",
      "8 / 1474\n",
      "9 / 1474\n",
      "10 / 1474\n",
      "11 / 1474\n",
      "12 / 1474\n",
      "13 / 1474\n",
      "14 / 1474\n",
      "15 / 1474\n",
      "16 / 1474\n",
      "17 / 1474\n",
      "18 / 1474\n",
      "19 / 1474\n",
      "20 / 1474\n",
      "21 / 1474\n",
      "22 / 1474\n",
      "23 / 1474\n",
      "24 / 1474\n",
      "25 / 1474\n",
      "26 / 1474\n",
      "27 / 1474\n",
      "28 / 1474\n",
      "29 / 1474\n",
      "30 / 1474\n",
      "31 / 1474\n",
      "32 / 1474\n",
      "33 / 1474\n",
      "34 / 1474\n",
      "35 / 1474\n",
      "36 / 1474\n",
      "37 / 1474\n",
      "38 / 1474\n",
      "39 / 1474\n",
      "40 / 1474\n",
      "41 / 1474\n",
      "42 / 1474\n",
      "43 / 1474\n",
      "44 / 1474\n",
      "45 / 1474\n",
      "46 / 1474\n",
      "47 / 1474\n",
      "48 / 1474\n",
      "49 / 1474\n",
      "50 / 1474\n",
      "51 / 1474\n",
      "52 / 1474\n",
      "53 / 1474\n",
      "54 / 1474\n",
      "55 / 1474\n",
      "56 / 1474\n",
      "57 / 1474\n",
      "58 / 1474\n",
      "59 / 1474\n",
      "60 / 1474\n",
      "61 / 1474\n",
      "62 / 1474\n",
      "63 / 1474\n",
      "64 / 1474\n",
      "65 / 1474\n",
      "66 / 1474\n",
      "67 / 1474\n",
      "68 / 1474\n",
      "69 / 1474\n",
      "70 / 1474\n",
      "71 / 1474\n",
      "72 / 1474\n",
      "73 / 1474\n",
      "74 / 1474\n",
      "75 / 1474\n",
      "76 / 1474\n",
      "77 / 1474\n",
      "78 / 1474\n",
      "79 / 1474\n",
      "80 / 1474\n",
      "81 / 1474\n",
      "82 / 1474\n",
      "83 / 1474\n",
      "84 / 1474\n",
      "85 / 1474\n",
      "86 / 1474\n",
      "87 / 1474\n",
      "88 / 1474\n",
      "89 / 1474\n",
      "90 / 1474\n",
      "91 / 1474\n",
      "92 / 1474\n",
      "93 / 1474\n",
      "94 / 1474\n",
      "95 / 1474\n",
      "96 / 1474\n",
      "97 / 1474\n",
      "98 / 1474\n",
      "99 / 1474\n",
      "100 / 1474\n",
      "101 / 1474\n",
      "102 / 1474\n",
      "103 / 1474\n"
     ]
    },
    {
     "ename": "KeyboardInterrupt",
     "evalue": "",
     "output_type": "error",
     "traceback": [
      "\u001b[0;31m---------------------------------------------------------------------------\u001b[0m",
      "\u001b[0;31mKeyboardInterrupt\u001b[0m                         Traceback (most recent call last)",
      "Cell \u001b[0;32mIn[13], line 42\u001b[0m\n\u001b[1;32m     39\u001b[0m         \u001b[38;5;28;01mreturn\u001b[39;00m path_length\u001b[38;5;241m/\u001b[39m\u001b[38;5;241m1000\u001b[39m\n\u001b[1;32m     41\u001b[0m primeriasLinhas \u001b[38;5;241m=\u001b[39m dadosPequenos\n\u001b[0;32m---> 42\u001b[0m primeriasLinhas[\u001b[38;5;124m\"\u001b[39m\u001b[38;5;124mMenor Rota em KM\u001b[39m\u001b[38;5;124m\"\u001b[39m] \u001b[38;5;241m=\u001b[39m \u001b[43mprimeriasLinhas\u001b[49m\u001b[38;5;241;43m.\u001b[39;49m\u001b[43mapply\u001b[49m\u001b[43m(\u001b[49m\u001b[43mCalculoMenorRota\u001b[49m\u001b[43m \u001b[49m\u001b[43m,\u001b[49m\u001b[43maxis\u001b[49m\u001b[38;5;241;43m=\u001b[39;49m\u001b[38;5;124;43m'\u001b[39;49m\u001b[38;5;124;43mcolumns\u001b[39;49m\u001b[38;5;124;43m'\u001b[39;49m\u001b[43m)\u001b[49m\n",
      "File \u001b[0;32m~/Área de trabalho/AjudaGi/ProjetoDistancia/lib/python3.12/site-packages/pandas/core/frame.py:10374\u001b[0m, in \u001b[0;36mDataFrame.apply\u001b[0;34m(self, func, axis, raw, result_type, args, by_row, engine, engine_kwargs, **kwargs)\u001b[0m\n\u001b[1;32m  10360\u001b[0m \u001b[38;5;28;01mfrom\u001b[39;00m\u001b[38;5;250m \u001b[39m\u001b[38;5;21;01mpandas\u001b[39;00m\u001b[38;5;21;01m.\u001b[39;00m\u001b[38;5;21;01mcore\u001b[39;00m\u001b[38;5;21;01m.\u001b[39;00m\u001b[38;5;21;01mapply\u001b[39;00m\u001b[38;5;250m \u001b[39m\u001b[38;5;28;01mimport\u001b[39;00m frame_apply\n\u001b[1;32m  10362\u001b[0m op \u001b[38;5;241m=\u001b[39m frame_apply(\n\u001b[1;32m  10363\u001b[0m     \u001b[38;5;28mself\u001b[39m,\n\u001b[1;32m  10364\u001b[0m     func\u001b[38;5;241m=\u001b[39mfunc,\n\u001b[0;32m   (...)\u001b[0m\n\u001b[1;32m  10372\u001b[0m     kwargs\u001b[38;5;241m=\u001b[39mkwargs,\n\u001b[1;32m  10373\u001b[0m )\n\u001b[0;32m> 10374\u001b[0m \u001b[38;5;28;01mreturn\u001b[39;00m \u001b[43mop\u001b[49m\u001b[38;5;241;43m.\u001b[39;49m\u001b[43mapply\u001b[49m\u001b[43m(\u001b[49m\u001b[43m)\u001b[49m\u001b[38;5;241m.\u001b[39m__finalize__(\u001b[38;5;28mself\u001b[39m, method\u001b[38;5;241m=\u001b[39m\u001b[38;5;124m\"\u001b[39m\u001b[38;5;124mapply\u001b[39m\u001b[38;5;124m\"\u001b[39m)\n",
      "File \u001b[0;32m~/Área de trabalho/AjudaGi/ProjetoDistancia/lib/python3.12/site-packages/pandas/core/apply.py:916\u001b[0m, in \u001b[0;36mFrameApply.apply\u001b[0;34m(self)\u001b[0m\n\u001b[1;32m    913\u001b[0m \u001b[38;5;28;01melif\u001b[39;00m \u001b[38;5;28mself\u001b[39m\u001b[38;5;241m.\u001b[39mraw:\n\u001b[1;32m    914\u001b[0m     \u001b[38;5;28;01mreturn\u001b[39;00m \u001b[38;5;28mself\u001b[39m\u001b[38;5;241m.\u001b[39mapply_raw(engine\u001b[38;5;241m=\u001b[39m\u001b[38;5;28mself\u001b[39m\u001b[38;5;241m.\u001b[39mengine, engine_kwargs\u001b[38;5;241m=\u001b[39m\u001b[38;5;28mself\u001b[39m\u001b[38;5;241m.\u001b[39mengine_kwargs)\n\u001b[0;32m--> 916\u001b[0m \u001b[38;5;28;01mreturn\u001b[39;00m \u001b[38;5;28;43mself\u001b[39;49m\u001b[38;5;241;43m.\u001b[39;49m\u001b[43mapply_standard\u001b[49m\u001b[43m(\u001b[49m\u001b[43m)\u001b[49m\n",
      "File \u001b[0;32m~/Área de trabalho/AjudaGi/ProjetoDistancia/lib/python3.12/site-packages/pandas/core/apply.py:1063\u001b[0m, in \u001b[0;36mFrameApply.apply_standard\u001b[0;34m(self)\u001b[0m\n\u001b[1;32m   1061\u001b[0m \u001b[38;5;28;01mdef\u001b[39;00m\u001b[38;5;250m \u001b[39m\u001b[38;5;21mapply_standard\u001b[39m(\u001b[38;5;28mself\u001b[39m):\n\u001b[1;32m   1062\u001b[0m     \u001b[38;5;28;01mif\u001b[39;00m \u001b[38;5;28mself\u001b[39m\u001b[38;5;241m.\u001b[39mengine \u001b[38;5;241m==\u001b[39m \u001b[38;5;124m\"\u001b[39m\u001b[38;5;124mpython\u001b[39m\u001b[38;5;124m\"\u001b[39m:\n\u001b[0;32m-> 1063\u001b[0m         results, res_index \u001b[38;5;241m=\u001b[39m \u001b[38;5;28;43mself\u001b[39;49m\u001b[38;5;241;43m.\u001b[39;49m\u001b[43mapply_series_generator\u001b[49m\u001b[43m(\u001b[49m\u001b[43m)\u001b[49m\n\u001b[1;32m   1064\u001b[0m     \u001b[38;5;28;01melse\u001b[39;00m:\n\u001b[1;32m   1065\u001b[0m         results, res_index \u001b[38;5;241m=\u001b[39m \u001b[38;5;28mself\u001b[39m\u001b[38;5;241m.\u001b[39mapply_series_numba()\n",
      "File \u001b[0;32m~/Área de trabalho/AjudaGi/ProjetoDistancia/lib/python3.12/site-packages/pandas/core/apply.py:1081\u001b[0m, in \u001b[0;36mFrameApply.apply_series_generator\u001b[0;34m(self)\u001b[0m\n\u001b[1;32m   1078\u001b[0m \u001b[38;5;28;01mwith\u001b[39;00m option_context(\u001b[38;5;124m\"\u001b[39m\u001b[38;5;124mmode.chained_assignment\u001b[39m\u001b[38;5;124m\"\u001b[39m, \u001b[38;5;28;01mNone\u001b[39;00m):\n\u001b[1;32m   1079\u001b[0m     \u001b[38;5;28;01mfor\u001b[39;00m i, v \u001b[38;5;129;01min\u001b[39;00m \u001b[38;5;28menumerate\u001b[39m(series_gen):\n\u001b[1;32m   1080\u001b[0m         \u001b[38;5;66;03m# ignore SettingWithCopy here in case the user mutates\u001b[39;00m\n\u001b[0;32m-> 1081\u001b[0m         results[i] \u001b[38;5;241m=\u001b[39m \u001b[38;5;28;43mself\u001b[39;49m\u001b[38;5;241;43m.\u001b[39;49m\u001b[43mfunc\u001b[49m\u001b[43m(\u001b[49m\u001b[43mv\u001b[49m\u001b[43m,\u001b[49m\u001b[43m \u001b[49m\u001b[38;5;241;43m*\u001b[39;49m\u001b[38;5;28;43mself\u001b[39;49m\u001b[38;5;241;43m.\u001b[39;49m\u001b[43margs\u001b[49m\u001b[43m,\u001b[49m\u001b[43m \u001b[49m\u001b[38;5;241;43m*\u001b[39;49m\u001b[38;5;241;43m*\u001b[39;49m\u001b[38;5;28;43mself\u001b[39;49m\u001b[38;5;241;43m.\u001b[39;49m\u001b[43mkwargs\u001b[49m\u001b[43m)\u001b[49m\n\u001b[1;32m   1082\u001b[0m         \u001b[38;5;28;01mif\u001b[39;00m \u001b[38;5;28misinstance\u001b[39m(results[i], ABCSeries):\n\u001b[1;32m   1083\u001b[0m             \u001b[38;5;66;03m# If we have a view on v, we need to make a copy because\u001b[39;00m\n\u001b[1;32m   1084\u001b[0m             \u001b[38;5;66;03m#  series_generator will swap out the underlying data\u001b[39;00m\n\u001b[1;32m   1085\u001b[0m             results[i] \u001b[38;5;241m=\u001b[39m results[i]\u001b[38;5;241m.\u001b[39mcopy(deep\u001b[38;5;241m=\u001b[39m\u001b[38;5;28;01mFalse\u001b[39;00m)\n",
      "Cell \u001b[0;32mIn[13], line 14\u001b[0m, in \u001b[0;36mCalculoMenorRota\u001b[0;34m(linha)\u001b[0m\n\u001b[1;32m     11\u001b[0m     \u001b[38;5;28;01mreturn\u001b[39;00m \u001b[38;5;241m-\u001b[39m\u001b[38;5;241m1\u001b[39m \u001b[38;5;66;03m#significa que já existe caminho!\u001b[39;00m\n\u001b[1;32m     12\u001b[0m \u001b[38;5;28;01melse\u001b[39;00m: \u001b[38;5;66;03m#caso não tenha um caminho até então\u001b[39;00m\n\u001b[1;32m     13\u001b[0m     \u001b[38;5;66;03m#Baixo Mapa, multiplica raio por 1000 para ter em km\u001b[39;00m\n\u001b[0;32m---> 14\u001b[0m     G \u001b[38;5;241m=\u001b[39m \u001b[43mox\u001b[49m\u001b[38;5;241;43m.\u001b[39;49m\u001b[43mgraph_from_point\u001b[49m\u001b[43m(\u001b[49m\u001b[43mcenter_point\u001b[49m\u001b[43m,\u001b[49m\u001b[43m \u001b[49m\u001b[43mdist\u001b[49m\u001b[38;5;241;43m=\u001b[39;49m\u001b[43mraio\u001b[49m\u001b[38;5;241;43m*\u001b[39;49m\u001b[38;5;241;43m1000\u001b[39;49m\u001b[43m,\u001b[49m\u001b[43m \u001b[49m\u001b[43mnetwork_type\u001b[49m\u001b[38;5;241;43m=\u001b[39;49m\u001b[38;5;124;43m'\u001b[39;49m\u001b[38;5;124;43mdrive\u001b[39;49m\u001b[38;5;124;43m'\u001b[39;49m\u001b[43m)\u001b[49m\n\u001b[1;32m     15\u001b[0m     \u001b[38;5;66;03m#encontro pontos no mapa mais próximos dos pontos referência\u001b[39;00m\n\u001b[1;32m     16\u001b[0m     orig_node \u001b[38;5;241m=\u001b[39m ox\u001b[38;5;241m.\u001b[39mdistance\u001b[38;5;241m.\u001b[39mnearest_nodes(G, center_point[\u001b[38;5;241m1\u001b[39m], center_point[\u001b[38;5;241m0\u001b[39m])\n",
      "File \u001b[0;32m~/Área de trabalho/AjudaGi/ProjetoDistancia/lib/python3.12/site-packages/osmnx/graph.py:198\u001b[0m, in \u001b[0;36mgraph_from_point\u001b[0;34m(center_point, dist, dist_type, network_type, simplify, retain_all, truncate_by_edge, custom_filter)\u001b[0m\n\u001b[1;32m    195\u001b[0m bbox \u001b[38;5;241m=\u001b[39m utils_geo\u001b[38;5;241m.\u001b[39mbbox_from_point(center_point, dist)\n\u001b[1;32m    197\u001b[0m \u001b[38;5;66;03m# create a graph from the bounding box\u001b[39;00m\n\u001b[0;32m--> 198\u001b[0m G \u001b[38;5;241m=\u001b[39m \u001b[43mgraph_from_bbox\u001b[49m\u001b[43m(\u001b[49m\n\u001b[1;32m    199\u001b[0m \u001b[43m    \u001b[49m\u001b[43mbbox\u001b[49m\u001b[43m,\u001b[49m\n\u001b[1;32m    200\u001b[0m \u001b[43m    \u001b[49m\u001b[43mnetwork_type\u001b[49m\u001b[38;5;241;43m=\u001b[39;49m\u001b[43mnetwork_type\u001b[49m\u001b[43m,\u001b[49m\n\u001b[1;32m    201\u001b[0m \u001b[43m    \u001b[49m\u001b[43msimplify\u001b[49m\u001b[38;5;241;43m=\u001b[39;49m\u001b[43msimplify\u001b[49m\u001b[43m,\u001b[49m\n\u001b[1;32m    202\u001b[0m \u001b[43m    \u001b[49m\u001b[43mretain_all\u001b[49m\u001b[38;5;241;43m=\u001b[39;49m\u001b[43mretain_all\u001b[49m\u001b[43m,\u001b[49m\n\u001b[1;32m    203\u001b[0m \u001b[43m    \u001b[49m\u001b[43mtruncate_by_edge\u001b[49m\u001b[38;5;241;43m=\u001b[39;49m\u001b[43mtruncate_by_edge\u001b[49m\u001b[43m,\u001b[49m\n\u001b[1;32m    204\u001b[0m \u001b[43m    \u001b[49m\u001b[43mcustom_filter\u001b[49m\u001b[38;5;241;43m=\u001b[39;49m\u001b[43mcustom_filter\u001b[49m\u001b[43m,\u001b[49m\n\u001b[1;32m    205\u001b[0m \u001b[43m\u001b[49m\u001b[43m)\u001b[49m\n\u001b[1;32m    207\u001b[0m \u001b[38;5;28;01mif\u001b[39;00m dist_type \u001b[38;5;241m==\u001b[39m \u001b[38;5;124m\"\u001b[39m\u001b[38;5;124mnetwork\u001b[39m\u001b[38;5;124m\"\u001b[39m:\n\u001b[1;32m    208\u001b[0m     \u001b[38;5;66;03m# find node nearest to center then truncate graph by dist from it\u001b[39;00m\n\u001b[1;32m    209\u001b[0m     node \u001b[38;5;241m=\u001b[39m distance\u001b[38;5;241m.\u001b[39mnearest_nodes(G, X\u001b[38;5;241m=\u001b[39mcenter_point[\u001b[38;5;241m1\u001b[39m], Y\u001b[38;5;241m=\u001b[39mcenter_point[\u001b[38;5;241m0\u001b[39m])\n",
      "File \u001b[0;32m~/Área de trabalho/AjudaGi/ProjetoDistancia/lib/python3.12/site-packages/osmnx/graph.py:104\u001b[0m, in \u001b[0;36mgraph_from_bbox\u001b[0;34m(bbox, network_type, simplify, retain_all, truncate_by_edge, custom_filter)\u001b[0m\n\u001b[1;32m    101\u001b[0m polygon \u001b[38;5;241m=\u001b[39m utils_geo\u001b[38;5;241m.\u001b[39mbbox_to_poly(bbox)\n\u001b[1;32m    103\u001b[0m \u001b[38;5;66;03m# create graph using this polygon geometry\u001b[39;00m\n\u001b[0;32m--> 104\u001b[0m G \u001b[38;5;241m=\u001b[39m \u001b[43mgraph_from_polygon\u001b[49m\u001b[43m(\u001b[49m\n\u001b[1;32m    105\u001b[0m \u001b[43m    \u001b[49m\u001b[43mpolygon\u001b[49m\u001b[43m,\u001b[49m\n\u001b[1;32m    106\u001b[0m \u001b[43m    \u001b[49m\u001b[43mnetwork_type\u001b[49m\u001b[38;5;241;43m=\u001b[39;49m\u001b[43mnetwork_type\u001b[49m\u001b[43m,\u001b[49m\n\u001b[1;32m    107\u001b[0m \u001b[43m    \u001b[49m\u001b[43msimplify\u001b[49m\u001b[38;5;241;43m=\u001b[39;49m\u001b[43msimplify\u001b[49m\u001b[43m,\u001b[49m\n\u001b[1;32m    108\u001b[0m \u001b[43m    \u001b[49m\u001b[43mretain_all\u001b[49m\u001b[38;5;241;43m=\u001b[39;49m\u001b[43mretain_all\u001b[49m\u001b[43m,\u001b[49m\n\u001b[1;32m    109\u001b[0m \u001b[43m    \u001b[49m\u001b[43mtruncate_by_edge\u001b[49m\u001b[38;5;241;43m=\u001b[39;49m\u001b[43mtruncate_by_edge\u001b[49m\u001b[43m,\u001b[49m\n\u001b[1;32m    110\u001b[0m \u001b[43m    \u001b[49m\u001b[43mcustom_filter\u001b[49m\u001b[38;5;241;43m=\u001b[39;49m\u001b[43mcustom_filter\u001b[49m\u001b[43m,\u001b[49m\n\u001b[1;32m    111\u001b[0m \u001b[43m\u001b[49m\u001b[43m)\u001b[49m\n\u001b[1;32m    113\u001b[0m msg \u001b[38;5;241m=\u001b[39m \u001b[38;5;124mf\u001b[39m\u001b[38;5;124m\"\u001b[39m\u001b[38;5;124mgraph_from_bbox returned graph with \u001b[39m\u001b[38;5;132;01m{\u001b[39;00m\u001b[38;5;28mlen\u001b[39m(G)\u001b[38;5;132;01m:\u001b[39;00m\u001b[38;5;124m,\u001b[39m\u001b[38;5;132;01m}\u001b[39;00m\u001b[38;5;124m nodes and \u001b[39m\u001b[38;5;132;01m{\u001b[39;00m\u001b[38;5;28mlen\u001b[39m(G\u001b[38;5;241m.\u001b[39medges)\u001b[38;5;132;01m:\u001b[39;00m\u001b[38;5;124m,\u001b[39m\u001b[38;5;132;01m}\u001b[39;00m\u001b[38;5;124m edges\u001b[39m\u001b[38;5;124m\"\u001b[39m\n\u001b[1;32m    114\u001b[0m utils\u001b[38;5;241m.\u001b[39mlog(msg, level\u001b[38;5;241m=\u001b[39mlg\u001b[38;5;241m.\u001b[39mINFO)\n",
      "File \u001b[0;32m~/Área de trabalho/AjudaGi/ProjetoDistancia/lib/python3.12/site-packages/osmnx/graph.py:496\u001b[0m, in \u001b[0;36mgraph_from_polygon\u001b[0;34m(polygon, network_type, simplify, retain_all, truncate_by_edge, custom_filter)\u001b[0m\n\u001b[1;32m    490\u001b[0m G_buff \u001b[38;5;241m=\u001b[39m _create_graph(response_jsons, bidirectional)\n\u001b[1;32m    492\u001b[0m \u001b[38;5;66;03m# truncate buffered graph to the buffered polygon and retain_all for\u001b[39;00m\n\u001b[1;32m    493\u001b[0m \u001b[38;5;66;03m# now. needed because overpass returns entire ways that also include\u001b[39;00m\n\u001b[1;32m    494\u001b[0m \u001b[38;5;66;03m# nodes outside the poly if the way (that is, a way with a single OSM\u001b[39;00m\n\u001b[1;32m    495\u001b[0m \u001b[38;5;66;03m# ID) has a node inside the poly at some point.\u001b[39;00m\n\u001b[0;32m--> 496\u001b[0m G_buff \u001b[38;5;241m=\u001b[39m \u001b[43mtruncate\u001b[49m\u001b[38;5;241;43m.\u001b[39;49m\u001b[43mtruncate_graph_polygon\u001b[49m\u001b[43m(\u001b[49m\u001b[43mG_buff\u001b[49m\u001b[43m,\u001b[49m\u001b[43m \u001b[49m\u001b[43mpoly_buff\u001b[49m\u001b[43m,\u001b[49m\u001b[43m \u001b[49m\u001b[43mtruncate_by_edge\u001b[49m\u001b[38;5;241;43m=\u001b[39;49m\u001b[43mtruncate_by_edge\u001b[49m\u001b[43m)\u001b[49m\n\u001b[1;32m    498\u001b[0m \u001b[38;5;66;03m# keep only the largest weakly connected component if retain_all is False\u001b[39;00m\n\u001b[1;32m    499\u001b[0m \u001b[38;5;28;01mif\u001b[39;00m \u001b[38;5;129;01mnot\u001b[39;00m retain_all:\n",
      "File \u001b[0;32m~/Área de trabalho/AjudaGi/ProjetoDistancia/lib/python3.12/site-packages/osmnx/truncate.py:154\u001b[0m, in \u001b[0;36mtruncate_graph_polygon\u001b[0;34m(G, polygon, truncate_by_edge)\u001b[0m\n\u001b[1;32m    150\u001b[0m     nodes_to_remove \u001b[38;5;241m=\u001b[39m nodes_outside_poly\n\u001b[1;32m    152\u001b[0m \u001b[38;5;66;03m# now remove from the graph all those nodes that lie outside the polygon\u001b[39;00m\n\u001b[1;32m    153\u001b[0m \u001b[38;5;66;03m# make a copy to not mutate original graph object caller passed in\u001b[39;00m\n\u001b[0;32m--> 154\u001b[0m G \u001b[38;5;241m=\u001b[39m \u001b[43mG\u001b[49m\u001b[38;5;241;43m.\u001b[39;49m\u001b[43mcopy\u001b[49m\u001b[43m(\u001b[49m\u001b[43m)\u001b[49m\n\u001b[1;32m    155\u001b[0m G\u001b[38;5;241m.\u001b[39mremove_nodes_from(nodes_to_remove)\n\u001b[1;32m    156\u001b[0m msg \u001b[38;5;241m=\u001b[39m \u001b[38;5;124mf\u001b[39m\u001b[38;5;124m\"\u001b[39m\u001b[38;5;124mRemoved \u001b[39m\u001b[38;5;132;01m{\u001b[39;00m\u001b[38;5;28mlen\u001b[39m(nodes_to_remove)\u001b[38;5;132;01m:\u001b[39;00m\u001b[38;5;124m,\u001b[39m\u001b[38;5;132;01m}\u001b[39;00m\u001b[38;5;124m nodes outside polygon\u001b[39m\u001b[38;5;124m\"\u001b[39m\n",
      "File \u001b[0;32m~/Área de trabalho/AjudaGi/ProjetoDistancia/lib/python3.12/site-packages/networkx/classes/multigraph.py:1105\u001b[0m, in \u001b[0;36mMultiGraph.copy\u001b[0;34m(self, as_view)\u001b[0m\n\u001b[1;32m   1103\u001b[0m G\u001b[38;5;241m.\u001b[39mgraph\u001b[38;5;241m.\u001b[39mupdate(\u001b[38;5;28mself\u001b[39m\u001b[38;5;241m.\u001b[39mgraph)\n\u001b[1;32m   1104\u001b[0m G\u001b[38;5;241m.\u001b[39madd_nodes_from((n, d\u001b[38;5;241m.\u001b[39mcopy()) \u001b[38;5;28;01mfor\u001b[39;00m n, d \u001b[38;5;129;01min\u001b[39;00m \u001b[38;5;28mself\u001b[39m\u001b[38;5;241m.\u001b[39m_node\u001b[38;5;241m.\u001b[39mitems())\n\u001b[0;32m-> 1105\u001b[0m \u001b[43mG\u001b[49m\u001b[38;5;241;43m.\u001b[39;49m\u001b[43madd_edges_from\u001b[49m\u001b[43m(\u001b[49m\n\u001b[1;32m   1106\u001b[0m \u001b[43m    \u001b[49m\u001b[43m(\u001b[49m\u001b[43mu\u001b[49m\u001b[43m,\u001b[49m\u001b[43m \u001b[49m\u001b[43mv\u001b[49m\u001b[43m,\u001b[49m\u001b[43m \u001b[49m\u001b[43mkey\u001b[49m\u001b[43m,\u001b[49m\u001b[43m \u001b[49m\u001b[43mdatadict\u001b[49m\u001b[38;5;241;43m.\u001b[39;49m\u001b[43mcopy\u001b[49m\u001b[43m(\u001b[49m\u001b[43m)\u001b[49m\u001b[43m)\u001b[49m\n\u001b[1;32m   1107\u001b[0m \u001b[43m    \u001b[49m\u001b[38;5;28;43;01mfor\u001b[39;49;00m\u001b[43m \u001b[49m\u001b[43mu\u001b[49m\u001b[43m,\u001b[49m\u001b[43m \u001b[49m\u001b[43mnbrs\u001b[49m\u001b[43m \u001b[49m\u001b[38;5;129;43;01min\u001b[39;49;00m\u001b[43m \u001b[49m\u001b[38;5;28;43mself\u001b[39;49m\u001b[38;5;241;43m.\u001b[39;49m\u001b[43m_adj\u001b[49m\u001b[38;5;241;43m.\u001b[39;49m\u001b[43mitems\u001b[49m\u001b[43m(\u001b[49m\u001b[43m)\u001b[49m\n\u001b[1;32m   1108\u001b[0m \u001b[43m    \u001b[49m\u001b[38;5;28;43;01mfor\u001b[39;49;00m\u001b[43m \u001b[49m\u001b[43mv\u001b[49m\u001b[43m,\u001b[49m\u001b[43m \u001b[49m\u001b[43mkeydict\u001b[49m\u001b[43m \u001b[49m\u001b[38;5;129;43;01min\u001b[39;49;00m\u001b[43m \u001b[49m\u001b[43mnbrs\u001b[49m\u001b[38;5;241;43m.\u001b[39;49m\u001b[43mitems\u001b[49m\u001b[43m(\u001b[49m\u001b[43m)\u001b[49m\n\u001b[1;32m   1109\u001b[0m \u001b[43m    \u001b[49m\u001b[38;5;28;43;01mfor\u001b[39;49;00m\u001b[43m \u001b[49m\u001b[43mkey\u001b[49m\u001b[43m,\u001b[49m\u001b[43m \u001b[49m\u001b[43mdatadict\u001b[49m\u001b[43m \u001b[49m\u001b[38;5;129;43;01min\u001b[39;49;00m\u001b[43m \u001b[49m\u001b[43mkeydict\u001b[49m\u001b[38;5;241;43m.\u001b[39;49m\u001b[43mitems\u001b[49m\u001b[43m(\u001b[49m\u001b[43m)\u001b[49m\n\u001b[1;32m   1110\u001b[0m \u001b[43m\u001b[49m\u001b[43m)\u001b[49m\n\u001b[1;32m   1111\u001b[0m \u001b[38;5;28;01mreturn\u001b[39;00m G\n",
      "File \u001b[0;32m~/Área de trabalho/AjudaGi/ProjetoDistancia/lib/python3.12/site-packages/networkx/classes/multigraph.py:619\u001b[0m, in \u001b[0;36mMultiGraph.add_edges_from\u001b[0;34m(self, ebunch_to_add, **attr)\u001b[0m\n\u001b[1;32m    617\u001b[0m         key \u001b[38;5;241m=\u001b[39m dd  \u001b[38;5;66;03m# ne == 3 with 3rd value not dict, must be a key\u001b[39;00m\n\u001b[1;32m    618\u001b[0m     key \u001b[38;5;241m=\u001b[39m \u001b[38;5;28mself\u001b[39m\u001b[38;5;241m.\u001b[39madd_edge(u, v, key)\n\u001b[0;32m--> 619\u001b[0m     \u001b[38;5;28;43mself\u001b[39;49m\u001b[43m[\u001b[49m\u001b[43mu\u001b[49m\u001b[43m]\u001b[49m\u001b[43m[\u001b[49m\u001b[43mv\u001b[49m\u001b[43m]\u001b[49m[key]\u001b[38;5;241m.\u001b[39mupdate(ddd)\n\u001b[1;32m    620\u001b[0m     keylist\u001b[38;5;241m.\u001b[39mappend(key)\n\u001b[1;32m    621\u001b[0m nx\u001b[38;5;241m.\u001b[39m_clear_cache(\u001b[38;5;28mself\u001b[39m)\n",
      "File \u001b[0;32m~/Área de trabalho/AjudaGi/ProjetoDistancia/lib/python3.12/site-packages/networkx/classes/coreviews.py:81\u001b[0m, in \u001b[0;36mAdjacencyView.__getitem__\u001b[0;34m(self, name)\u001b[0m\n\u001b[1;32m     67\u001b[0m \u001b[38;5;250m\u001b[39m\u001b[38;5;124;03m\"\"\"An AdjacencyView is a Read-only Map of Maps of Maps.\u001b[39;00m\n\u001b[1;32m     68\u001b[0m \n\u001b[1;32m     69\u001b[0m \u001b[38;5;124;03mIt is a View into a dict-of-dict-of-dict data structure.\u001b[39;00m\n\u001b[0;32m   (...)\u001b[0m\n\u001b[1;32m     76\u001b[0m \u001b[38;5;124;03mMultiAdjacencyView: View into dict-of-dict-of-dict-of-dict\u001b[39;00m\n\u001b[1;32m     77\u001b[0m \u001b[38;5;124;03m\"\"\"\u001b[39;00m\n\u001b[1;32m     79\u001b[0m \u001b[38;5;18m__slots__\u001b[39m \u001b[38;5;241m=\u001b[39m ()  \u001b[38;5;66;03m# Still uses AtlasView slots names _atlas\u001b[39;00m\n\u001b[0;32m---> 81\u001b[0m \u001b[38;5;28;01mdef\u001b[39;00m\u001b[38;5;250m \u001b[39m\u001b[38;5;21m__getitem__\u001b[39m(\u001b[38;5;28mself\u001b[39m, name):\n\u001b[1;32m     82\u001b[0m     \u001b[38;5;28;01mreturn\u001b[39;00m AtlasView(\u001b[38;5;28mself\u001b[39m\u001b[38;5;241m.\u001b[39m_atlas[name])\n\u001b[1;32m     84\u001b[0m \u001b[38;5;28;01mdef\u001b[39;00m\u001b[38;5;250m \u001b[39m\u001b[38;5;21mcopy\u001b[39m(\u001b[38;5;28mself\u001b[39m):\n",
      "\u001b[0;31mKeyboardInterrupt\u001b[0m: "
     ]
    }
   ],
   "source": [
    "iniciosFeitos =[]\n",
    "i=0\n",
    "def CalculoMenorRota(linha):\n",
    "    global iniciosFeitos\n",
    "    global i\n",
    "    i+=1\n",
    "    print(f\"{i} / 1474\")\n",
    "    # Define the coordinates for the center point and the destination point\n",
    "    center_point = linha.PontoCsv\n",
    "    destination_point = linha.PontoExcel\n",
    "    raio = linha.DistanciaGeodesica\n",
    "    #vejo se já vi essa linha\n",
    "    if center_point in iniciosFeitos:\n",
    "        return -1 #significa que já existe caminho!\n",
    "    else: #caso não tenha um caminho até então\n",
    "        #Baixo Mapa, multiplica raio por 1000 para ter em km\n",
    "        G = ox.graph_from_point(center_point, dist=raio*1000, network_type='drive')\n",
    "        #encontro pontos no mapa mais próximos dos pontos referência\n",
    "        orig_node = ox.distance.nearest_nodes(G, center_point[1], center_point[0])\n",
    "        dest_node = ox.distance.nearest_nodes(G, destination_point[1], destination_point[0])\n",
    "        #encontro menor caminho entre pontos\n",
    "        shortest_path = nx.shortest_path(G, orig_node, dest_node, weight='length')\n",
    "        #calculo menor caminho\n",
    "        path_length = nx.shortest_path_length(G, orig_node, dest_node, weight='length')\n",
    "\n",
    "        #print(center_point)\n",
    "        #print(destination_point)\n",
    "        #print(raio)\n",
    "        #print(f\"The length of the shortest path is {path_length/1000} meters.\")\n",
    "        '''\n",
    "        fig, ax = ox.plot_graph_route(G, shortest_path, show=False, close=False)
    "        ax.scatter(center_point[1], center_point[0], c='red', s=100, label='Center Point')
    "        ax.scatter(destination_point[1], destination_point[0], c='blue', s=100, label='Destination Point')
    "        plt.legend()
    "        plt.savefig(f"{i}.jpg")
    "        plt.show()
    "        '''\n",
    "        if path_length/1000<=50:\n",
    "            iniciosFeitos+=[center_point]\n",
    "        return path_length/1000\n",
    "    \n",
    "primeriasLinhas = dadosPequenos\n",
    "primeriasLinhas[\"Menor Rota em KM\"] = primeriasLinhas.apply(CalculoMenorRota ,axis='columns')"
   ]
  },
  {
   "cell_type": "code",
   "execution_count": 17,
   "id": "2ffee554-b5c1-4186-9fc7-30da0be11216",
   "metadata": {},
   "outputs": [
    {
     "data": {
      "text/plain": [
       "[(-5.3808, -40.3377),\n",
       " (-6.1115, -39.4562),\n",
       " (-3.57228, -41.09056),\n",
       " (-3.5722, -41.0903),\n",
       " (-3.7695, -40.4909),\n",
       " (-6.6071, -39.0552),\n",
       " (-4.1749, -40.7521),\n",
       " (-6.6075, -39.0573),\n",
       " (-6.3345, -39.0329),\n",
       " (-6.6083, -39.0571),\n",
       " (-6.6088, -39.0571),\n",
       " (-4.045278, -40.761389),\n",
       " (-3.111, -40.1502),\n",
       " (-6.6095, -39.0571),\n",
       " (-4.14866, -38.8582),\n",
       " (-3.502, -39.4879),\n",
       " (-3.3543, -39.1471),\n",
       " (-5.2467, -38.1237),\n",
       " (-7.2593, -39.3361),\n",
       " (-4.03745, -40.3718),\n",
       " (-4.93006, -37.9445),\n",
       " (-2.9093, -40.4543),\n",
       " (-7.259, -39.334),\n",
       " (-7.2973, -39.288),\n",
       " (-4.96286, -39.0194),\n",
       " (-4.2424, -38.7285),\n",
       " (-4.1366, -38.2472),\n",
       " (-2.9292, -39.9163),\n",
       " (-4.9913, -39.0238),\n",
       " (-4.9913, -39.02377),\n",
       " (-6.1346, -39.8893),\n",
       " (-3.3103, -39.517),\n",
       " (-4.9852, -39.0169),\n",
       " (-4.9607, -39.00933),\n",
       " (-7.24524, -39.1432),\n",
       " (-3.9408, -40.4799),\n",
       " (-3.4617, -39.5761),\n",
       " (-4.2309, -38.6976),\n",
       " (-4.2253, -38.9137),\n",
       " (-3.5854, -40.5471),\n",
       " (-3.7985, -40.267),\n",
       " (-4.42162, -39.0455),\n",
       " (-5.5156, -40.7771),\n",
       " (-3.583369, -40.551107),\n",
       " (-3.9104, -40.7522),\n",
       " (-7.2278, -39.3109),\n",
       " (-7.2077, -39.3009),\n",
       " (-4.1693, -40.53787),\n",
       " (-4.080556, -40.820556),\n",
       " (-4.1644, -38.1346),\n",
       " (-4.32112, -38.8845),\n",
       " (-3.04329, -40.1642),\n",
       " (-3.31858, -40.0081),\n",
       " (-4.28902, -40.8466),\n",
       " (-3.5498, -40.3437),\n",
       " (-3.2746388889, -39.2730277778),\n",
       " (-2.8, -40.5044),\n",
       " (-4.3472, -38.8717),\n",
       " (-4.3494, -38.8719),\n",
       " (-4.11832, -40.8676),\n",
       " (-4.11807, -40.86807),\n",
       " (-4.0361, -38.6153),\n",
       " (-4.2606, -38.9333),\n",
       " (-7.1808, -39.3118),\n",
       " (-3.9941, -38.6206),\n",
       " (-4.5541, -37.765),\n",
       " (-5.1823, -40.6567),\n",
       " (-5.1762, -40.659),\n",
       " (-6.2289, -38.9071),\n",
       " (-7.15825, -38.7811),\n",
       " (-5.1675, -40.6629),\n",
       " (-5.1715, -40.6649),\n",
       " (-4.57053, -37.7553),\n",
       " (-5.1679, -40.6674),\n",
       " (-3.90697, -38.6555),\n",
       " (-5.1661, -40.6689),\n",
       " (-4.3088, -38.9913),\n",
       " (-3.97811, -38.5996),\n",
       " (-3.9781, -38.5996),\n",
       " (-4.0842, -39.2381),\n",
       " (-7.39505, -38.7814),\n",
       " (-3.221369, -39.278045),\n",
       " (-3.8856, -38.6725),\n",
       " (-3.4329, -39.0477),\n",
       " (-7.5288, -39.1038),\n",
       " (-3.8767, -38.6641),\n",
       " (-7.0066, -39.7382),\n",
       " (-3.8891, -38.6384),\n",
       " (-3.6616666667, -39.2369444444),\n",
       " (-7.313123, -38.957862),\n",
       " (-4.29088, -38.6239),\n",
       " (-3.7244, -41.0118),\n",
       " (-3.712544, -40.995326),\n",
       " (-3.7127, -40.9953),\n",
       " (-3.8901, -38.6257),\n",
       " (-3.7341, -41.0126),\n",
       " (-3.86362, -38.6502),\n",
       " (-4.13771, -38.47176),\n",
       " (-4.4999, -38.6016),\n",
       " (-3.8969, -38.6049),\n",
       " (-3.8586111111, -38.6469444444),\n",
       " (-3.86645, -38.6327),\n",
       " (-6.6813, -39.7576)]"
      ]
     },
     "execution_count": 17,
     "metadata": {},
     "output_type": "execute_result"
    }
   ],
   "source": [
    "iniciosFeitos"
   ]
  },
  {
   "cell_type": "markdown",
   "id": "1776434d-b40e-4b7e-bd2b-1b9bcd8848db",
   "metadata": {},
   "source": [
    "Vamos salvar em csv"
   ]
  },
  {
   "cell_type": "code",
   "execution_count": null,
   "id": "bf655384-9875-4e30-9e2d-1d58e2f3d9a9",
   "metadata": {},
   "outputs": [],
   "source": [
    "primeriasLinhas.to_csv(\"ArquivoFinal.csv\",index=False)"
   ]
  }
 ],
 "metadata": {
  "kernelspec": {
   "display_name": "Python 3 (ipykernel)",
   "language": "python",
   "name": "python3"
  },
  "language_info": {
   "codemirror_mode": {
    "name": "ipython",
    "version": 3
   },
   "file_extension": ".py",
   "mimetype": "text/x-python",
   "name": "python",
   "nbconvert_exporter": "python",
   "pygments_lexer": "ipython3",
   "version": "3.12.3"
  }
 },
 "nbformat": 4,
 "nbformat_minor": 5
}
