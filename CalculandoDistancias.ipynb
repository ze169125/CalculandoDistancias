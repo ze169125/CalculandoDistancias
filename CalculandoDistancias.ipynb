{
 "cells": [
  {
   "cell_type": "markdown",
   "id": "7f0a7e02-b588-4b96-b063-e1ad648a6201",
   "metadata": {},
   "source": [
    "Para instalar bibliotecas necessárias, use: \n",
    "pip install -r requirements.txt"
   ]
  },
  {
   "cell_type": "code",
   "execution_count": null,
   "id": "9baa2b67-f0ab-4322-beb6-7531e57e6216",
   "metadata": {},
   "outputs": [],
   "source": [
    "#Importo bibliotecas que serão usadas\n",
    "import osmnx as ox\n",
    "import networkx as nx\n",
    "import matplotlib.pyplot as plt\n",
    "import pandas as pd\n",
    "from pyproj import Transformer, Proj\n",
    "from geopy.distance import geodesic\n",
    "import itertools"
   ]
  },
  {
   "cell_type": "code",
   "execution_count": null,
   "id": "ca309311-2ca5-46ee-b342-24a9fe1a0c39",
   "metadata": {},
   "outputs": [],
   "source": [
    "#leio arquivos e pego somente colunas uteis!\n",
    "arqCsv = pd.read_csv(\"Levantamento ETE_CAGECE - zÉ.csv\",usecols=[\"LATITUDE*\",\"LONGITUDE*\"])\n",
    "arqExcel = pd.read_excel(\"COMUNIDADES BENEFICIADAS(2).xlsx\",usecols=[\"Latitude\",\"Longitute\"])"
   ]
  },
  {
   "cell_type": "markdown",
   "id": "6b1e7edc-c04c-453d-af43-7baa9b47dff2",
   "metadata": {},
   "source": [
    "Transformo o arquivo Excel em uma série de linhas, onde cada linha é uma localização (lat,long)"
   ]
  },
  {
   "cell_type": "code",
   "execution_count": null,
   "id": "301cbc0a-6d80-484d-b552-d23edde31a96",
   "metadata": {},
   "outputs": [],
   "source": [
    "#crio função que faz a conversão dos dados do Excel, que estão em UTM para (lat,long)\n",
    "def TransformaColunasExcel(linha):\n",
    "    utm_proj =Proj(proj='utm', zone=24, south=True)\n",
    "    lon, lat =utm_proj(linha.Longitute, linha.Latitude,inverse=True)\n",
    "    linha.NovaCoord = (round(lat,5),round(lon,5))\n",
    "    return linha.NovaCoord\n",
    "\n",
    "#executo função\n",
    "arqExcel=arqExcel.apply(TransformaColunasExcel ,axis='columns')"
   ]
  },
  {
   "cell_type": "markdown",
   "id": "212cdea6-626c-4ac2-bc10-e67472cde34c",
   "metadata": {},
   "source": [
    "Transformo o arquivo CSV em uma série de linhas, onde cada linha é uma localização (lat,long)"
   ]
  },
  {
   "cell_type": "code",
   "execution_count": null,
   "id": "74bda0b6-4c71-4cca-9bb7-f3594375d25b",
   "metadata": {},
   "outputs": [],
   "source": [
    "def JuntoColunas(linha):\n",
    "    return (float(linha[\"LATITUDE*\"].replace(\",\",\".\")) ,float(linha[\"LONGITUDE*\"].replace(\",\",\".\")))\n",
    "arqCsv= arqCsv.apply(JuntoColunas ,axis='columns')"
   ]
  },
  {
   "cell_type": "markdown",
   "id": "694bfd60-8aa8-4a3f-8262-114a1d2b9c50",
   "metadata": {},
   "source": [
    "Crio tabela com colunas: PontoCsv, PontoExcel para todas as combinações desses valores!"
   ]
  },
  {
   "cell_type": "code",
   "execution_count": null,
   "id": "3c0c6866-7a11-400b-96f5-bc0f4453a4eb",
   "metadata": {},
   "outputs": [],
   "source": [
    "product = list(itertools.product(arqCsv, arqExcel))\n",
    "dados = pd.DataFrame(product, columns=['PontoCsv', 'PontoExcel'])"
   ]
  },
  {
   "cell_type": "markdown",
   "id": "1dd74ee0-fddb-49f9-a263-772a788fb261",
   "metadata": {},
   "source": [
    "Crio Coluna que contêm a distância geodésica entre os pontos!"
   ]
  },
  {
   "cell_type": "code",
   "execution_count": null,
   "id": "59c9a880-8947-4d71-ba77-ae8c03ca7f8d",
   "metadata": {},
   "outputs": [],
   "source": [
    "#Vejo se a distância entre os pontos em linha reta é menor do que 50 km\n",
    "def CalculoGeodesica(linha):\n",
    "    return geodesic(linha.PontoCsv, linha.PontoExcel).kilometers\n",
    "dados[\"DistanciaGeodesica\"]= dados.apply(CalculoGeodesica ,axis='columns')\n",
    "dados.to_csv(\"ArquivoDistanciaGeodesica.csv\",index=False)"
   ]
  },
  {
   "cell_type": "markdown",
   "id": "745a3e25-cb67-42ca-bfd7-1ea909aa3f5b",
   "metadata": {},
   "source": [
    "Vamos pegar somente linhas onde a distância geodésica for menor que 50 km"
   ]
  },
  {
   "cell_type": "code",
   "execution_count": null,
   "id": "821908f6-052c-436d-a973-7f91999bcdd2",
   "metadata": {},
   "outputs": [],
   "source": [
    "dadosPequenos = dados[dados[\"DistanciaGeodesica\"]<=50]\n",
    "print(f\"Temos: {dadosPequenos.shape[0]} candidatos\")\n",
    "#alinho dados por distância\n",
    "dadosPequenos=dadosPequenos.sort_values(by=['DistanciaGeodesica'], ascending=[True])\n",
    "print(dadosPequenos.head())"
   ]
  },
  {
   "cell_type": "markdown",
   "id": "1c2e0edf-cfa1-42c8-8e55-87f0674afd4b",
   "metadata": {},
   "source": [
    "Agora vamos calcular a distância de carro! Para cada um, pegaremos um mapa e veremos a distância de carro."
   ]
  },
  {
   "cell_type": "code",
   "execution_count": null,
   "id": "16c6eee0-1d10-40da-a1f6-d9c3d0cc7ec5",
   "metadata": {},
   "outputs": [],
   "source": [
    "iniciosFeitos =[]\n",
    "i=0\n",
    "def CalculoMenorRota(linha):\n",
    "    global iniciosFeitos\n",
    "    global i\n",
    "    i+=1\n",
    "    print(f\"{i} / 1474\")\n",
    "    # Define the coordinates for the center point and the destination point\n",
    "    center_point = linha.PontoCsv\n",
    "    destination_point = linha.PontoExcel\n",
    "    raio = linha.DistanciaGeodesica\n",
    "    #vejo se já vi essa linha\n",
    "    if center_point in iniciosFeitos:\n",
    "        return -1 #significa que já existe caminho!\n",
    "    else: #caso não tenha um caminho até então\n",
    "        #Baixo Mapa, multiplica raio por 1000 para ter em km\n",
    "        G = ox.graph_from_point(center_point, dist=raio*1000, network_type='drive')\n",
    "        #encontro pontos no mapa mais próximos dos pontos referência\n",
    "        orig_node = ox.distance.nearest_nodes(G, center_point[1], center_point[0])\n",
    "        dest_node = ox.distance.nearest_nodes(G, destination_point[1], destination_point[0])\n",
    "        #encontro menor caminho entre pontos\n",
    "        shortest_path = nx.shortest_path(G, orig_node, dest_node, weight='length')\n",
    "        #calculo menor caminho\n",
    "        path_length = nx.shortest_path_length(G, orig_node, dest_node, weight='length')\n",
    "\n",
    "        #print(center_point)\n",
    "        #print(destination_point)\n",
    "        #print(raio)\n",
    "        #print(f\"The length of the shortest path is {path_length/1000} meters.\")\n",
    "\n",
    "        '''\n",
    "        fig, ax = ox.plot_graph_route(G, shortest_path, show=False, close=False)\n",
    "        ax.scatter(center_point[1], center_point[0], c='red', s=100, label='Center Point')\n",
    "        ax.scatter(destination_point[1], destination_point[0], c='blue', s=100, label='Destination Point')\n",
    "        plt.legend()\n",
    "        plt.savefig(f\"{i}.jpg\")\n",
    "        plt.show()\n",
    "        '''\n",
    "        \n",
    "        if path_length/1000<=50:\n",
    "            iniciosFeitos+=[center_point]\n",
    "        return path_length/1000\n",
    "    \n",
    "primeriasLinhas = dadosPequenos.head(5)\n",
    "primeriasLinhas[\"Menor Rota em KM\"] = primeriasLinhas.apply(CalculoMenorRota ,axis='columns')"
   ]
  },
  {
   "cell_type": "markdown",
   "id": "1776434d-b40e-4b7e-bd2b-1b9bcd8848db",
   "metadata": {},
   "source": [
    "Vamos salvar em csv"
   ]
  },
  {
   "cell_type": "code",
   "execution_count": null,
   "id": "bf655384-9875-4e30-9e2d-1d58e2f3d9a9",
   "metadata": {},
   "outputs": [],
   "source": [
    "primeriasLinhas.to_csv(\"ArquivoFinal.csv\",index=False)"
   ]
  }
 ],
 "metadata": {
  "kernelspec": {
   "display_name": "Python 3 (ipykernel)",
   "language": "python",
   "name": "python3"
  },
  "language_info": {
   "codemirror_mode": {
    "name": "ipython",
    "version": 3
   },
   "file_extension": ".py",
   "mimetype": "text/x-python",
   "name": "python",
   "nbconvert_exporter": "python",
   "pygments_lexer": "ipython3",
   "version": "3.12.3"
  }
 },
 "nbformat": 4,
 "nbformat_minor": 5
}
